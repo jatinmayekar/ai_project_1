{
  "cells": [
    {
      "cell_type": "markdown",
      "metadata": {
        "id": "view-in-github",
        "colab_type": "text"
      },
      "source": [
        "<a href=\"https://colab.research.google.com/github/jatinmayekar/ai_project_1/blob/main/TextQuery2PDFs.ipynb\" target=\"_parent\"><img src=\"https://colab.research.google.com/assets/colab-badge.svg\" alt=\"Open In Colab\"/></a>"
      ]
    },
    {
      "cell_type": "markdown",
      "source": [
        "README:\n",
        "This Google Colab notebook is designed to load the OpenAI API key from a file stored in Google Drive. It sets up the necessary environment by installing required libraries and then reads the API key from a specified file in Google Drive. Once the key is loaded, it is set as an environment variable for further use in the notebook.\n",
        "\n",
        "https://github.com/openai/tiktoken\n",
        "\n",
        "https://github.com/openai/openai-cookbook/blob/main/examples/How_to_count_tokens_with_tiktoken.ipynb\n",
        "\n",
        "https://pypi.org/search/?q=tiktoken"
      ],
      "metadata": {
        "id": "SVBm3wBjdoG-"
      }
    },
    {
      "cell_type": "code",
      "execution_count": 39,
      "metadata": {
        "colab": {
          "base_uri": "https://localhost:8080/"
        },
        "id": "y3UdqjvQKcnR",
        "collapsed": true,
        "outputId": "2aca0734-c697-4fb2-cbbd-d0655a21a668"
      },
      "outputs": [
        {
          "output_type": "stream",
          "name": "stdout",
          "text": [
            "Requirement already satisfied: langchain in /usr/local/lib/python3.10/dist-packages (0.0.309)\n",
            "Requirement already satisfied: PyYAML>=5.3 in /usr/local/lib/python3.10/dist-packages (from langchain) (6.0.1)\n",
            "Requirement already satisfied: SQLAlchemy<3,>=1.4 in /usr/local/lib/python3.10/dist-packages (from langchain) (2.0.21)\n",
            "Requirement already satisfied: aiohttp<4.0.0,>=3.8.3 in /usr/local/lib/python3.10/dist-packages (from langchain) (3.8.5)\n",
            "Requirement already satisfied: anyio<4.0 in /usr/local/lib/python3.10/dist-packages (from langchain) (3.7.1)\n",
            "Requirement already satisfied: async-timeout<5.0.0,>=4.0.0 in /usr/local/lib/python3.10/dist-packages (from langchain) (4.0.3)\n",
            "Requirement already satisfied: dataclasses-json<0.7,>=0.5.7 in /usr/local/lib/python3.10/dist-packages (from langchain) (0.6.1)\n",
            "Requirement already satisfied: jsonpatch<2.0,>=1.33 in /usr/local/lib/python3.10/dist-packages (from langchain) (1.33)\n",
            "Requirement already satisfied: langsmith<0.1.0,>=0.0.40 in /usr/local/lib/python3.10/dist-packages (from langchain) (0.0.42)\n",
            "Requirement already satisfied: numpy<2,>=1 in /usr/local/lib/python3.10/dist-packages (from langchain) (1.23.5)\n",
            "Requirement already satisfied: pydantic<3,>=1 in /usr/local/lib/python3.10/dist-packages (from langchain) (1.10.13)\n",
            "Requirement already satisfied: requests<3,>=2 in /usr/local/lib/python3.10/dist-packages (from langchain) (2.31.0)\n",
            "Requirement already satisfied: tenacity<9.0.0,>=8.1.0 in /usr/local/lib/python3.10/dist-packages (from langchain) (8.2.3)\n",
            "Requirement already satisfied: attrs>=17.3.0 in /usr/local/lib/python3.10/dist-packages (from aiohttp<4.0.0,>=3.8.3->langchain) (23.1.0)\n",
            "Requirement already satisfied: charset-normalizer<4.0,>=2.0 in /usr/local/lib/python3.10/dist-packages (from aiohttp<4.0.0,>=3.8.3->langchain) (3.3.0)\n",
            "Requirement already satisfied: multidict<7.0,>=4.5 in /usr/local/lib/python3.10/dist-packages (from aiohttp<4.0.0,>=3.8.3->langchain) (6.0.4)\n",
            "Requirement already satisfied: yarl<2.0,>=1.0 in /usr/local/lib/python3.10/dist-packages (from aiohttp<4.0.0,>=3.8.3->langchain) (1.9.2)\n",
            "Requirement already satisfied: frozenlist>=1.1.1 in /usr/local/lib/python3.10/dist-packages (from aiohttp<4.0.0,>=3.8.3->langchain) (1.4.0)\n",
            "Requirement already satisfied: aiosignal>=1.1.2 in /usr/local/lib/python3.10/dist-packages (from aiohttp<4.0.0,>=3.8.3->langchain) (1.3.1)\n",
            "Requirement already satisfied: idna>=2.8 in /usr/local/lib/python3.10/dist-packages (from anyio<4.0->langchain) (3.4)\n",
            "Requirement already satisfied: sniffio>=1.1 in /usr/local/lib/python3.10/dist-packages (from anyio<4.0->langchain) (1.3.0)\n",
            "Requirement already satisfied: exceptiongroup in /usr/local/lib/python3.10/dist-packages (from anyio<4.0->langchain) (1.1.3)\n",
            "Requirement already satisfied: marshmallow<4.0.0,>=3.18.0 in /usr/local/lib/python3.10/dist-packages (from dataclasses-json<0.7,>=0.5.7->langchain) (3.20.1)\n",
            "Requirement already satisfied: typing-inspect<1,>=0.4.0 in /usr/local/lib/python3.10/dist-packages (from dataclasses-json<0.7,>=0.5.7->langchain) (0.9.0)\n",
            "Requirement already satisfied: jsonpointer>=1.9 in /usr/local/lib/python3.10/dist-packages (from jsonpatch<2.0,>=1.33->langchain) (2.4)\n",
            "Requirement already satisfied: typing-extensions>=4.2.0 in /usr/local/lib/python3.10/dist-packages (from pydantic<3,>=1->langchain) (4.5.0)\n",
            "Requirement already satisfied: urllib3<3,>=1.21.1 in /usr/local/lib/python3.10/dist-packages (from requests<3,>=2->langchain) (2.0.6)\n",
            "Requirement already satisfied: certifi>=2017.4.17 in /usr/local/lib/python3.10/dist-packages (from requests<3,>=2->langchain) (2023.7.22)\n",
            "Requirement already satisfied: greenlet!=0.4.17 in /usr/local/lib/python3.10/dist-packages (from SQLAlchemy<3,>=1.4->langchain) (3.0.0)\n",
            "Requirement already satisfied: packaging>=17.0 in /usr/local/lib/python3.10/dist-packages (from marshmallow<4.0.0,>=3.18.0->dataclasses-json<0.7,>=0.5.7->langchain) (23.2)\n",
            "Requirement already satisfied: mypy-extensions>=0.3.0 in /usr/local/lib/python3.10/dist-packages (from typing-inspect<1,>=0.4.0->dataclasses-json<0.7,>=0.5.7->langchain) (1.0.0)\n",
            "Requirement already satisfied: unstructured[all-docs] in /usr/local/lib/python3.10/dist-packages (0.10.19)\n",
            "Requirement already satisfied: chardet in /usr/local/lib/python3.10/dist-packages (from unstructured[all-docs]) (5.2.0)\n",
            "Requirement already satisfied: filetype in /usr/local/lib/python3.10/dist-packages (from unstructured[all-docs]) (1.2.0)\n",
            "Requirement already satisfied: python-magic in /usr/local/lib/python3.10/dist-packages (from unstructured[all-docs]) (0.4.27)\n",
            "Requirement already satisfied: lxml in /usr/local/lib/python3.10/dist-packages (from unstructured[all-docs]) (4.9.3)\n",
            "Requirement already satisfied: nltk in /usr/local/lib/python3.10/dist-packages (from unstructured[all-docs]) (3.8.1)\n",
            "Requirement already satisfied: tabulate in /usr/local/lib/python3.10/dist-packages (from unstructured[all-docs]) (0.9.0)\n",
            "Requirement already satisfied: requests in /usr/local/lib/python3.10/dist-packages (from unstructured[all-docs]) (2.31.0)\n",
            "Requirement already satisfied: beautifulsoup4 in /usr/local/lib/python3.10/dist-packages (from unstructured[all-docs]) (4.11.2)\n",
            "Requirement already satisfied: emoji in /usr/local/lib/python3.10/dist-packages (from unstructured[all-docs]) (2.8.0)\n",
            "Requirement already satisfied: dataclasses-json in /usr/local/lib/python3.10/dist-packages (from unstructured[all-docs]) (0.6.1)\n",
            "Requirement already satisfied: python-iso639 in /usr/local/lib/python3.10/dist-packages (from unstructured[all-docs]) (2023.6.15)\n",
            "Requirement already satisfied: langdetect in /usr/local/lib/python3.10/dist-packages (from unstructured[all-docs]) (1.0.9)\n",
            "Requirement already satisfied: numpy in /usr/local/lib/python3.10/dist-packages (from unstructured[all-docs]) (1.23.5)\n",
            "Requirement already satisfied: msg-parser in /usr/local/lib/python3.10/dist-packages (from unstructured[all-docs]) (1.2.0)\n",
            "Requirement already satisfied: unstructured.pytesseract>=0.3.12 in /usr/local/lib/python3.10/dist-packages (from unstructured[all-docs]) (0.3.12)\n",
            "Requirement already satisfied: openpyxl in /usr/local/lib/python3.10/dist-packages (from unstructured[all-docs]) (3.1.2)\n",
            "Requirement already satisfied: pandas in /usr/local/lib/python3.10/dist-packages (from unstructured[all-docs]) (1.5.3)\n",
            "Requirement already satisfied: pdf2image in /usr/local/lib/python3.10/dist-packages (from unstructured[all-docs]) (1.16.3)\n",
            "Requirement already satisfied: pdfminer.six in /usr/local/lib/python3.10/dist-packages (from unstructured[all-docs]) (20221105)\n",
            "Requirement already satisfied: python-pptx<=0.6.21 in /usr/local/lib/python3.10/dist-packages (from unstructured[all-docs]) (0.6.21)\n",
            "Requirement already satisfied: pypandoc in /usr/local/lib/python3.10/dist-packages (from unstructured[all-docs]) (1.11)\n",
            "Requirement already satisfied: xlrd in /usr/local/lib/python3.10/dist-packages (from unstructured[all-docs]) (2.0.1)\n",
            "Requirement already satisfied: python-docx in /usr/local/lib/python3.10/dist-packages (from unstructured[all-docs]) (0.8.11)\n",
            "Requirement already satisfied: unstructured-inference==0.6.6 in /usr/local/lib/python3.10/dist-packages (from unstructured[all-docs]) (0.6.6)\n",
            "Requirement already satisfied: ebooklib in /usr/local/lib/python3.10/dist-packages (from unstructured[all-docs]) (0.18)\n",
            "Requirement already satisfied: markdown in /usr/local/lib/python3.10/dist-packages (from unstructured[all-docs]) (3.4.4)\n",
            "Requirement already satisfied: layoutparser[layoutmodels,tesseract] in /usr/local/lib/python3.10/dist-packages (from unstructured-inference==0.6.6->unstructured[all-docs]) (0.3.4)\n",
            "Requirement already satisfied: python-multipart in /usr/local/lib/python3.10/dist-packages (from unstructured-inference==0.6.6->unstructured[all-docs]) (0.0.6)\n",
            "Requirement already satisfied: huggingface-hub in /usr/local/lib/python3.10/dist-packages (from unstructured-inference==0.6.6->unstructured[all-docs]) (0.16.4)\n",
            "Requirement already satisfied: opencv-python!=4.7.0.68 in /usr/local/lib/python3.10/dist-packages (from unstructured-inference==0.6.6->unstructured[all-docs]) (4.8.0.76)\n",
            "Requirement already satisfied: onnx==1.14.1 in /usr/local/lib/python3.10/dist-packages (from unstructured-inference==0.6.6->unstructured[all-docs]) (1.14.1)\n",
            "Requirement already satisfied: onnxruntime in /usr/local/lib/python3.10/dist-packages (from unstructured-inference==0.6.6->unstructured[all-docs]) (1.16.0)\n",
            "Requirement already satisfied: transformers>=4.25.1 in /usr/local/lib/python3.10/dist-packages (from unstructured-inference==0.6.6->unstructured[all-docs]) (4.34.0)\n",
            "Requirement already satisfied: rapidfuzz in /usr/local/lib/python3.10/dist-packages (from unstructured-inference==0.6.6->unstructured[all-docs]) (3.3.1)\n",
            "Requirement already satisfied: protobuf>=3.20.2 in /usr/local/lib/python3.10/dist-packages (from onnx==1.14.1->unstructured-inference==0.6.6->unstructured[all-docs]) (3.20.3)\n",
            "Requirement already satisfied: typing-extensions>=3.6.2.1 in /usr/local/lib/python3.10/dist-packages (from onnx==1.14.1->unstructured-inference==0.6.6->unstructured[all-docs]) (4.5.0)\n",
            "Requirement already satisfied: Pillow>=3.3.2 in /usr/local/lib/python3.10/dist-packages (from python-pptx<=0.6.21->unstructured[all-docs]) (9.4.0)\n",
            "Requirement already satisfied: XlsxWriter>=0.5.7 in /usr/local/lib/python3.10/dist-packages (from python-pptx<=0.6.21->unstructured[all-docs]) (3.1.6)\n",
            "Requirement already satisfied: packaging>=21.3 in /usr/local/lib/python3.10/dist-packages (from unstructured.pytesseract>=0.3.12->unstructured[all-docs]) (23.2)\n",
            "Requirement already satisfied: soupsieve>1.2 in /usr/local/lib/python3.10/dist-packages (from beautifulsoup4->unstructured[all-docs]) (2.5)\n",
            "Requirement already satisfied: marshmallow<4.0.0,>=3.18.0 in /usr/local/lib/python3.10/dist-packages (from dataclasses-json->unstructured[all-docs]) (3.20.1)\n",
            "Requirement already satisfied: typing-inspect<1,>=0.4.0 in /usr/local/lib/python3.10/dist-packages (from dataclasses-json->unstructured[all-docs]) (0.9.0)\n",
            "Requirement already satisfied: six in /usr/local/lib/python3.10/dist-packages (from ebooklib->unstructured[all-docs]) (1.16.0)\n",
            "Requirement already satisfied: olefile>=0.46 in /usr/local/lib/python3.10/dist-packages (from msg-parser->unstructured[all-docs]) (0.46)\n",
            "Requirement already satisfied: click in /usr/local/lib/python3.10/dist-packages (from nltk->unstructured[all-docs]) (8.1.7)\n",
            "Requirement already satisfied: joblib in /usr/local/lib/python3.10/dist-packages (from nltk->unstructured[all-docs]) (1.3.2)\n",
            "Requirement already satisfied: regex>=2021.8.3 in /usr/local/lib/python3.10/dist-packages (from nltk->unstructured[all-docs]) (2023.6.3)\n",
            "Requirement already satisfied: tqdm in /usr/local/lib/python3.10/dist-packages (from nltk->unstructured[all-docs]) (4.66.1)\n",
            "Requirement already satisfied: et-xmlfile in /usr/local/lib/python3.10/dist-packages (from openpyxl->unstructured[all-docs]) (1.1.0)\n",
            "Requirement already satisfied: python-dateutil>=2.8.1 in /usr/local/lib/python3.10/dist-packages (from pandas->unstructured[all-docs]) (2.8.2)\n",
            "Requirement already satisfied: pytz>=2020.1 in /usr/local/lib/python3.10/dist-packages (from pandas->unstructured[all-docs]) (2023.3.post1)\n",
            "Requirement already satisfied: charset-normalizer>=2.0.0 in /usr/local/lib/python3.10/dist-packages (from pdfminer.six->unstructured[all-docs]) (3.3.0)\n",
            "Requirement already satisfied: cryptography>=36.0.0 in /usr/local/lib/python3.10/dist-packages (from pdfminer.six->unstructured[all-docs]) (41.0.4)\n",
            "Requirement already satisfied: idna<4,>=2.5 in /usr/local/lib/python3.10/dist-packages (from requests->unstructured[all-docs]) (3.4)\n",
            "Requirement already satisfied: urllib3<3,>=1.21.1 in /usr/local/lib/python3.10/dist-packages (from requests->unstructured[all-docs]) (2.0.6)\n",
            "Requirement already satisfied: certifi>=2017.4.17 in /usr/local/lib/python3.10/dist-packages (from requests->unstructured[all-docs]) (2023.7.22)\n",
            "Requirement already satisfied: cffi>=1.12 in /usr/local/lib/python3.10/dist-packages (from cryptography>=36.0.0->pdfminer.six->unstructured[all-docs]) (1.16.0)\n",
            "Requirement already satisfied: filelock in /usr/local/lib/python3.10/dist-packages (from transformers>=4.25.1->unstructured-inference==0.6.6->unstructured[all-docs]) (3.12.4)\n",
            "Requirement already satisfied: pyyaml>=5.1 in /usr/local/lib/python3.10/dist-packages (from transformers>=4.25.1->unstructured-inference==0.6.6->unstructured[all-docs]) (6.0.1)\n",
            "Requirement already satisfied: tokenizers<0.15,>=0.14 in /usr/local/lib/python3.10/dist-packages (from transformers>=4.25.1->unstructured-inference==0.6.6->unstructured[all-docs]) (0.14.0)\n",
            "Requirement already satisfied: safetensors>=0.3.1 in /usr/local/lib/python3.10/dist-packages (from transformers>=4.25.1->unstructured-inference==0.6.6->unstructured[all-docs]) (0.3.3)\n",
            "Requirement already satisfied: fsspec in /usr/local/lib/python3.10/dist-packages (from huggingface-hub->unstructured-inference==0.6.6->unstructured[all-docs]) (2023.6.0)\n",
            "Requirement already satisfied: mypy-extensions>=0.3.0 in /usr/local/lib/python3.10/dist-packages (from typing-inspect<1,>=0.4.0->dataclasses-json->unstructured[all-docs]) (1.0.0)\n",
            "Requirement already satisfied: scipy in /usr/local/lib/python3.10/dist-packages (from layoutparser[layoutmodels,tesseract]->unstructured-inference==0.6.6->unstructured[all-docs]) (1.11.3)\n",
            "Requirement already satisfied: iopath in /usr/local/lib/python3.10/dist-packages (from layoutparser[layoutmodels,tesseract]->unstructured-inference==0.6.6->unstructured[all-docs]) (0.1.10)\n",
            "Requirement already satisfied: pdfplumber in /usr/local/lib/python3.10/dist-packages (from layoutparser[layoutmodels,tesseract]->unstructured-inference==0.6.6->unstructured[all-docs]) (0.10.2)\n",
            "Requirement already satisfied: torch in /usr/local/lib/python3.10/dist-packages (from layoutparser[layoutmodels,tesseract]->unstructured-inference==0.6.6->unstructured[all-docs]) (2.0.1+cu118)\n",
            "Requirement already satisfied: torchvision in /usr/local/lib/python3.10/dist-packages (from layoutparser[layoutmodels,tesseract]->unstructured-inference==0.6.6->unstructured[all-docs]) (0.15.2+cu118)\n",
            "Requirement already satisfied: effdet in /usr/local/lib/python3.10/dist-packages (from layoutparser[layoutmodels,tesseract]->unstructured-inference==0.6.6->unstructured[all-docs]) (0.4.1)\n",
            "Requirement already satisfied: pytesseract in /usr/local/lib/python3.10/dist-packages (from layoutparser[layoutmodels,tesseract]->unstructured-inference==0.6.6->unstructured[all-docs]) (0.3.10)\n",
            "Requirement already satisfied: coloredlogs in /usr/local/lib/python3.10/dist-packages (from onnxruntime->unstructured-inference==0.6.6->unstructured[all-docs]) (15.0.1)\n",
            "Requirement already satisfied: flatbuffers in /usr/local/lib/python3.10/dist-packages (from onnxruntime->unstructured-inference==0.6.6->unstructured[all-docs]) (23.5.26)\n",
            "Requirement already satisfied: sympy in /usr/local/lib/python3.10/dist-packages (from onnxruntime->unstructured-inference==0.6.6->unstructured[all-docs]) (1.12)\n",
            "Requirement already satisfied: pycparser in /usr/local/lib/python3.10/dist-packages (from cffi>=1.12->cryptography>=36.0.0->pdfminer.six->unstructured[all-docs]) (2.21)\n",
            "Requirement already satisfied: humanfriendly>=9.1 in /usr/local/lib/python3.10/dist-packages (from coloredlogs->onnxruntime->unstructured-inference==0.6.6->unstructured[all-docs]) (10.0)\n",
            "Requirement already satisfied: timm>=0.9.2 in /usr/local/lib/python3.10/dist-packages (from effdet->layoutparser[layoutmodels,tesseract]->unstructured-inference==0.6.6->unstructured[all-docs]) (0.9.7)\n",
            "Requirement already satisfied: pycocotools>=2.0.2 in /usr/local/lib/python3.10/dist-packages (from effdet->layoutparser[layoutmodels,tesseract]->unstructured-inference==0.6.6->unstructured[all-docs]) (2.0.7)\n",
            "Requirement already satisfied: omegaconf>=2.0 in /usr/local/lib/python3.10/dist-packages (from effdet->layoutparser[layoutmodels,tesseract]->unstructured-inference==0.6.6->unstructured[all-docs]) (2.3.0)\n",
            "Requirement already satisfied: networkx in /usr/local/lib/python3.10/dist-packages (from torch->layoutparser[layoutmodels,tesseract]->unstructured-inference==0.6.6->unstructured[all-docs]) (3.1)\n",
            "Requirement already satisfied: jinja2 in /usr/local/lib/python3.10/dist-packages (from torch->layoutparser[layoutmodels,tesseract]->unstructured-inference==0.6.6->unstructured[all-docs]) (3.1.2)\n",
            "Requirement already satisfied: triton==2.0.0 in /usr/local/lib/python3.10/dist-packages (from torch->layoutparser[layoutmodels,tesseract]->unstructured-inference==0.6.6->unstructured[all-docs]) (2.0.0)\n",
            "Requirement already satisfied: cmake in /usr/local/lib/python3.10/dist-packages (from triton==2.0.0->torch->layoutparser[layoutmodels,tesseract]->unstructured-inference==0.6.6->unstructured[all-docs]) (3.27.6)\n",
            "Requirement already satisfied: lit in /usr/local/lib/python3.10/dist-packages (from triton==2.0.0->torch->layoutparser[layoutmodels,tesseract]->unstructured-inference==0.6.6->unstructured[all-docs]) (17.0.2)\n",
            "Requirement already satisfied: portalocker in /usr/local/lib/python3.10/dist-packages (from iopath->layoutparser[layoutmodels,tesseract]->unstructured-inference==0.6.6->unstructured[all-docs]) (2.8.2)\n",
            "Requirement already satisfied: pypdfium2>=4.18.0 in /usr/local/lib/python3.10/dist-packages (from pdfplumber->layoutparser[layoutmodels,tesseract]->unstructured-inference==0.6.6->unstructured[all-docs]) (4.20.0)\n",
            "Requirement already satisfied: mpmath>=0.19 in /usr/local/lib/python3.10/dist-packages (from sympy->onnxruntime->unstructured-inference==0.6.6->unstructured[all-docs]) (1.3.0)\n",
            "Requirement already satisfied: antlr4-python3-runtime==4.9.* in /usr/local/lib/python3.10/dist-packages (from omegaconf>=2.0->effdet->layoutparser[layoutmodels,tesseract]->unstructured-inference==0.6.6->unstructured[all-docs]) (4.9.3)\n",
            "Requirement already satisfied: matplotlib>=2.1.0 in /usr/local/lib/python3.10/dist-packages (from pycocotools>=2.0.2->effdet->layoutparser[layoutmodels,tesseract]->unstructured-inference==0.6.6->unstructured[all-docs]) (3.7.1)\n",
            "Requirement already satisfied: MarkupSafe>=2.0 in /usr/local/lib/python3.10/dist-packages (from jinja2->torch->layoutparser[layoutmodels,tesseract]->unstructured-inference==0.6.6->unstructured[all-docs]) (2.1.3)\n",
            "Requirement already satisfied: contourpy>=1.0.1 in /usr/local/lib/python3.10/dist-packages (from matplotlib>=2.1.0->pycocotools>=2.0.2->effdet->layoutparser[layoutmodels,tesseract]->unstructured-inference==0.6.6->unstructured[all-docs]) (1.1.1)\n",
            "Requirement already satisfied: cycler>=0.10 in /usr/local/lib/python3.10/dist-packages (from matplotlib>=2.1.0->pycocotools>=2.0.2->effdet->layoutparser[layoutmodels,tesseract]->unstructured-inference==0.6.6->unstructured[all-docs]) (0.12.0)\n",
            "Requirement already satisfied: fonttools>=4.22.0 in /usr/local/lib/python3.10/dist-packages (from matplotlib>=2.1.0->pycocotools>=2.0.2->effdet->layoutparser[layoutmodels,tesseract]->unstructured-inference==0.6.6->unstructured[all-docs]) (4.43.0)\n",
            "Requirement already satisfied: kiwisolver>=1.0.1 in /usr/local/lib/python3.10/dist-packages (from matplotlib>=2.1.0->pycocotools>=2.0.2->effdet->layoutparser[layoutmodels,tesseract]->unstructured-inference==0.6.6->unstructured[all-docs]) (1.4.5)\n",
            "Requirement already satisfied: pyparsing>=2.3.1 in /usr/local/lib/python3.10/dist-packages (from matplotlib>=2.1.0->pycocotools>=2.0.2->effdet->layoutparser[layoutmodels,tesseract]->unstructured-inference==0.6.6->unstructured[all-docs]) (3.1.1)\n",
            "Requirement already satisfied: openai in /usr/local/lib/python3.10/dist-packages (0.28.1)\n",
            "Requirement already satisfied: requests>=2.20 in /usr/local/lib/python3.10/dist-packages (from openai) (2.31.0)\n",
            "Requirement already satisfied: tqdm in /usr/local/lib/python3.10/dist-packages (from openai) (4.66.1)\n",
            "Requirement already satisfied: aiohttp in /usr/local/lib/python3.10/dist-packages (from openai) (3.8.5)\n",
            "Requirement already satisfied: charset-normalizer<4,>=2 in /usr/local/lib/python3.10/dist-packages (from requests>=2.20->openai) (3.3.0)\n",
            "Requirement already satisfied: idna<4,>=2.5 in /usr/local/lib/python3.10/dist-packages (from requests>=2.20->openai) (3.4)\n",
            "Requirement already satisfied: urllib3<3,>=1.21.1 in /usr/local/lib/python3.10/dist-packages (from requests>=2.20->openai) (2.0.6)\n",
            "Requirement already satisfied: certifi>=2017.4.17 in /usr/local/lib/python3.10/dist-packages (from requests>=2.20->openai) (2023.7.22)\n",
            "Requirement already satisfied: attrs>=17.3.0 in /usr/local/lib/python3.10/dist-packages (from aiohttp->openai) (23.1.0)\n",
            "Requirement already satisfied: multidict<7.0,>=4.5 in /usr/local/lib/python3.10/dist-packages (from aiohttp->openai) (6.0.4)\n",
            "Requirement already satisfied: async-timeout<5.0,>=4.0.0a3 in /usr/local/lib/python3.10/dist-packages (from aiohttp->openai) (4.0.3)\n",
            "Requirement already satisfied: yarl<2.0,>=1.0 in /usr/local/lib/python3.10/dist-packages (from aiohttp->openai) (1.9.2)\n",
            "Requirement already satisfied: frozenlist>=1.1.1 in /usr/local/lib/python3.10/dist-packages (from aiohttp->openai) (1.4.0)\n",
            "Requirement already satisfied: aiosignal>=1.1.2 in /usr/local/lib/python3.10/dist-packages (from aiohttp->openai) (1.3.1)\n",
            "Requirement already satisfied: chromadb in /usr/local/lib/python3.10/dist-packages (0.4.13)\n",
            "Requirement already satisfied: requests>=2.28 in /usr/local/lib/python3.10/dist-packages (from chromadb) (2.31.0)\n",
            "Requirement already satisfied: pydantic>=1.9 in /usr/local/lib/python3.10/dist-packages (from chromadb) (1.10.13)\n",
            "Requirement already satisfied: chroma-hnswlib==0.7.3 in /usr/local/lib/python3.10/dist-packages (from chromadb) (0.7.3)\n",
            "Requirement already satisfied: fastapi>=0.95.2 in /usr/local/lib/python3.10/dist-packages (from chromadb) (0.103.2)\n",
            "Requirement already satisfied: uvicorn[standard]>=0.18.3 in /usr/local/lib/python3.10/dist-packages (from chromadb) (0.23.2)\n",
            "Requirement already satisfied: posthog>=2.4.0 in /usr/local/lib/python3.10/dist-packages (from chromadb) (3.0.2)\n",
            "Requirement already satisfied: typing-extensions>=4.5.0 in /usr/local/lib/python3.10/dist-packages (from chromadb) (4.5.0)\n",
            "Requirement already satisfied: pulsar-client>=3.1.0 in /usr/local/lib/python3.10/dist-packages (from chromadb) (3.3.0)\n",
            "Requirement already satisfied: onnxruntime>=1.14.1 in /usr/local/lib/python3.10/dist-packages (from chromadb) (1.16.0)\n",
            "Requirement already satisfied: tokenizers>=0.13.2 in /usr/local/lib/python3.10/dist-packages (from chromadb) (0.14.0)\n",
            "Requirement already satisfied: pypika>=0.48.9 in /usr/local/lib/python3.10/dist-packages (from chromadb) (0.48.9)\n",
            "Requirement already satisfied: tqdm>=4.65.0 in /usr/local/lib/python3.10/dist-packages (from chromadb) (4.66.1)\n",
            "Requirement already satisfied: overrides>=7.3.1 in /usr/local/lib/python3.10/dist-packages (from chromadb) (7.4.0)\n",
            "Requirement already satisfied: importlib-resources in /usr/local/lib/python3.10/dist-packages (from chromadb) (6.1.0)\n",
            "Requirement already satisfied: bcrypt>=4.0.1 in /usr/local/lib/python3.10/dist-packages (from chromadb) (4.0.1)\n",
            "Requirement already satisfied: typer>=0.9.0 in /usr/local/lib/python3.10/dist-packages (from chromadb) (0.9.0)\n",
            "Requirement already satisfied: numpy>=1.22.5 in /usr/local/lib/python3.10/dist-packages (from chromadb) (1.23.5)\n",
            "Requirement already satisfied: anyio<4.0.0,>=3.7.1 in /usr/local/lib/python3.10/dist-packages (from fastapi>=0.95.2->chromadb) (3.7.1)\n",
            "Requirement already satisfied: starlette<0.28.0,>=0.27.0 in /usr/local/lib/python3.10/dist-packages (from fastapi>=0.95.2->chromadb) (0.27.0)\n",
            "Requirement already satisfied: coloredlogs in /usr/local/lib/python3.10/dist-packages (from onnxruntime>=1.14.1->chromadb) (15.0.1)\n",
            "Requirement already satisfied: flatbuffers in /usr/local/lib/python3.10/dist-packages (from onnxruntime>=1.14.1->chromadb) (23.5.26)\n",
            "Requirement already satisfied: packaging in /usr/local/lib/python3.10/dist-packages (from onnxruntime>=1.14.1->chromadb) (23.2)\n",
            "Requirement already satisfied: protobuf in /usr/local/lib/python3.10/dist-packages (from onnxruntime>=1.14.1->chromadb) (3.20.3)\n",
            "Requirement already satisfied: sympy in /usr/local/lib/python3.10/dist-packages (from onnxruntime>=1.14.1->chromadb) (1.12)\n",
            "Requirement already satisfied: six>=1.5 in /usr/local/lib/python3.10/dist-packages (from posthog>=2.4.0->chromadb) (1.16.0)\n",
            "Requirement already satisfied: monotonic>=1.5 in /usr/local/lib/python3.10/dist-packages (from posthog>=2.4.0->chromadb) (1.6)\n",
            "Requirement already satisfied: backoff>=1.10.0 in /usr/local/lib/python3.10/dist-packages (from posthog>=2.4.0->chromadb) (2.2.1)\n",
            "Requirement already satisfied: python-dateutil>2.1 in /usr/local/lib/python3.10/dist-packages (from posthog>=2.4.0->chromadb) (2.8.2)\n",
            "Requirement already satisfied: certifi in /usr/local/lib/python3.10/dist-packages (from pulsar-client>=3.1.0->chromadb) (2023.7.22)\n",
            "Requirement already satisfied: charset-normalizer<4,>=2 in /usr/local/lib/python3.10/dist-packages (from requests>=2.28->chromadb) (3.3.0)\n",
            "Requirement already satisfied: idna<4,>=2.5 in /usr/local/lib/python3.10/dist-packages (from requests>=2.28->chromadb) (3.4)\n",
            "Requirement already satisfied: urllib3<3,>=1.21.1 in /usr/local/lib/python3.10/dist-packages (from requests>=2.28->chromadb) (2.0.6)\n",
            "Requirement already satisfied: huggingface_hub<0.17,>=0.16.4 in /usr/local/lib/python3.10/dist-packages (from tokenizers>=0.13.2->chromadb) (0.16.4)\n",
            "Requirement already satisfied: click<9.0.0,>=7.1.1 in /usr/local/lib/python3.10/dist-packages (from typer>=0.9.0->chromadb) (8.1.7)\n",
            "Requirement already satisfied: h11>=0.8 in /usr/local/lib/python3.10/dist-packages (from uvicorn[standard]>=0.18.3->chromadb) (0.14.0)\n",
            "Requirement already satisfied: httptools>=0.5.0 in /usr/local/lib/python3.10/dist-packages (from uvicorn[standard]>=0.18.3->chromadb) (0.6.0)\n",
            "Requirement already satisfied: python-dotenv>=0.13 in /usr/local/lib/python3.10/dist-packages (from uvicorn[standard]>=0.18.3->chromadb) (1.0.0)\n",
            "Requirement already satisfied: pyyaml>=5.1 in /usr/local/lib/python3.10/dist-packages (from uvicorn[standard]>=0.18.3->chromadb) (6.0.1)\n",
            "Requirement already satisfied: uvloop!=0.15.0,!=0.15.1,>=0.14.0 in /usr/local/lib/python3.10/dist-packages (from uvicorn[standard]>=0.18.3->chromadb) (0.17.0)\n",
            "Requirement already satisfied: watchfiles>=0.13 in /usr/local/lib/python3.10/dist-packages (from uvicorn[standard]>=0.18.3->chromadb) (0.20.0)\n",
            "Requirement already satisfied: websockets>=10.4 in /usr/local/lib/python3.10/dist-packages (from uvicorn[standard]>=0.18.3->chromadb) (11.0.3)\n",
            "Requirement already satisfied: sniffio>=1.1 in /usr/local/lib/python3.10/dist-packages (from anyio<4.0.0,>=3.7.1->fastapi>=0.95.2->chromadb) (1.3.0)\n",
            "Requirement already satisfied: exceptiongroup in /usr/local/lib/python3.10/dist-packages (from anyio<4.0.0,>=3.7.1->fastapi>=0.95.2->chromadb) (1.1.3)\n",
            "Requirement already satisfied: filelock in /usr/local/lib/python3.10/dist-packages (from huggingface_hub<0.17,>=0.16.4->tokenizers>=0.13.2->chromadb) (3.12.4)\n",
            "Requirement already satisfied: fsspec in /usr/local/lib/python3.10/dist-packages (from huggingface_hub<0.17,>=0.16.4->tokenizers>=0.13.2->chromadb) (2023.6.0)\n",
            "Requirement already satisfied: humanfriendly>=9.1 in /usr/local/lib/python3.10/dist-packages (from coloredlogs->onnxruntime>=1.14.1->chromadb) (10.0)\n",
            "Requirement already satisfied: mpmath>=0.19 in /usr/local/lib/python3.10/dist-packages (from sympy->onnxruntime>=1.14.1->chromadb) (1.3.0)\n",
            "Requirement already satisfied: tiktoken in /usr/local/lib/python3.10/dist-packages (0.5.1)\n",
            "Requirement already satisfied: regex>=2022.1.18 in /usr/local/lib/python3.10/dist-packages (from tiktoken) (2023.6.3)\n",
            "Requirement already satisfied: requests>=2.26.0 in /usr/local/lib/python3.10/dist-packages (from tiktoken) (2.31.0)\n",
            "Requirement already satisfied: charset-normalizer<4,>=2 in /usr/local/lib/python3.10/dist-packages (from requests>=2.26.0->tiktoken) (3.3.0)\n",
            "Requirement already satisfied: idna<4,>=2.5 in /usr/local/lib/python3.10/dist-packages (from requests>=2.26.0->tiktoken) (3.4)\n",
            "Requirement already satisfied: urllib3<3,>=1.21.1 in /usr/local/lib/python3.10/dist-packages (from requests>=2.26.0->tiktoken) (2.0.6)\n",
            "Requirement already satisfied: certifi>=2017.4.17 in /usr/local/lib/python3.10/dist-packages (from requests>=2.26.0->tiktoken) (2023.7.22)\n"
          ]
        }
      ],
      "source": [
        "# Required libraries installation\n",
        "!pip install langchain\n",
        "!pip install unstructured[all-docs]\n",
        "!pip install openai\n",
        "!pip install chromadb\n",
        "!pip install tiktoken\n",
        "\n",
        "import os\n",
        "\n",
        "# Importing necessary libraries for partitioning PDFs\n",
        "from unstructured.partition.auto import partition\n",
        "from unstructured.documents.elements import NarrativeText\n",
        "from unstructured.partition.text_type import sentence_count\n",
        "\n",
        "from langchain.text_splitter import NLTKTextSplitter\n",
        "from langchain.vectorstores import Chroma\n",
        "from langchain.embeddings.openai import OpenAIEmbeddings\n",
        "from langchain.chains import ConversationalRetrievalChain\n",
        "from langchain.memory import ConversationBufferMemory\n",
        "from langchain.llms import OpenAI"
      ]
    },
    {
      "cell_type": "code",
      "source": [
        "from google.colab import drive\n",
        "drive.mount('/content/drive')\n",
        "\n",
        "# Adjust the path based on where you've placed the file in Google Drive\n",
        "file_path = '/content/drive/My Drive/ai_portfolio/openai_key.txt'\n",
        "\n",
        "with open(file_path, 'r') as file:\n",
        "    api_key = file.readline().strip()\n",
        "\n",
        "os.environ[\"OPENAI_API_KEY\"] = api_key\n",
        "\n",
        "print(\"API Key loaded successfully!\")"
      ],
      "metadata": {
        "colab": {
          "base_uri": "https://localhost:8080/"
        },
        "id": "SMhdMqYAd0tU",
        "outputId": "e99c5dbd-2956-463b-e12d-746aa02a4be0"
      },
      "execution_count": 40,
      "outputs": [
        {
          "output_type": "stream",
          "name": "stdout",
          "text": [
            "Drive already mounted at /content/drive; to attempt to forcibly remount, call drive.mount(\"/content/drive\", force_remount=True).\n",
            "API Key loaded successfully!\n"
          ]
        }
      ]
    },
    {
      "cell_type": "code",
      "source": [
        "# Define the path to the PDF\n",
        "link=\"/content/3HAC052982 PS IRB 14000-en.pdf\"\n",
        "# Partition the PDF content\n",
        "elements = partition(filename=link, content_type=\"application/pdf\")\n",
        "\n",
        "input=\"\"\n",
        "for element in elements:\n",
        "    if isinstance(element, NarrativeText):\n",
        "        input=input+str(element);\n",
        "\n",
        "nltksplit = NLTKTextSplitter(chunk_size=250)\n",
        "nsplit = nltksplit.split_text(input)"
      ],
      "metadata": {
        "colab": {
          "base_uri": "https://localhost:8080/"
        },
        "id": "m86y4h2Ed4ca",
        "outputId": "7263e259-3265-45d3-814c-dff73126b9fe"
      },
      "execution_count": 41,
      "outputs": [
        {
          "output_type": "stream",
          "name": "stderr",
          "text": [
            "WARNING:langchain.text_splitter:Created a chunk of size 639, which is longer than the specified 250\n",
            "WARNING:langchain.text_splitter:Created a chunk of size 311, which is longer than the specified 250\n",
            "WARNING:langchain.text_splitter:Created a chunk of size 256, which is longer than the specified 250\n",
            "WARNING:langchain.text_splitter:Created a chunk of size 257, which is longer than the specified 250\n",
            "WARNING:langchain.text_splitter:Created a chunk of size 402, which is longer than the specified 250\n",
            "WARNING:langchain.text_splitter:Created a chunk of size 708, which is longer than the specified 250\n",
            "WARNING:langchain.text_splitter:Created a chunk of size 445, which is longer than the specified 250\n",
            "WARNING:langchain.text_splitter:Created a chunk of size 449, which is longer than the specified 250\n",
            "WARNING:langchain.text_splitter:Created a chunk of size 292, which is longer than the specified 250\n",
            "WARNING:langchain.text_splitter:Created a chunk of size 400, which is longer than the specified 250\n",
            "WARNING:langchain.text_splitter:Created a chunk of size 314, which is longer than the specified 250\n",
            "WARNING:langchain.text_splitter:Created a chunk of size 299, which is longer than the specified 250\n",
            "WARNING:langchain.text_splitter:Created a chunk of size 275, which is longer than the specified 250\n",
            "WARNING:langchain.text_splitter:Created a chunk of size 419, which is longer than the specified 250\n",
            "WARNING:langchain.text_splitter:Created a chunk of size 462, which is longer than the specified 250\n",
            "WARNING:langchain.text_splitter:Created a chunk of size 350, which is longer than the specified 250\n",
            "WARNING:langchain.text_splitter:Created a chunk of size 302, which is longer than the specified 250\n",
            "WARNING:langchain.text_splitter:Created a chunk of size 337, which is longer than the specified 250\n",
            "WARNING:langchain.text_splitter:Created a chunk of size 306, which is longer than the specified 250\n",
            "WARNING:langchain.text_splitter:Created a chunk of size 253, which is longer than the specified 250\n",
            "WARNING:langchain.text_splitter:Created a chunk of size 268, which is longer than the specified 250\n",
            "WARNING:langchain.text_splitter:Created a chunk of size 304, which is longer than the specified 250\n",
            "WARNING:langchain.text_splitter:Created a chunk of size 265, which is longer than the specified 250\n",
            "WARNING:langchain.text_splitter:Created a chunk of size 312, which is longer than the specified 250\n",
            "WARNING:langchain.text_splitter:Created a chunk of size 278, which is longer than the specified 250\n",
            "WARNING:langchain.text_splitter:Created a chunk of size 361, which is longer than the specified 250\n",
            "WARNING:langchain.text_splitter:Created a chunk of size 265, which is longer than the specified 250\n",
            "WARNING:langchain.text_splitter:Created a chunk of size 608, which is longer than the specified 250\n",
            "WARNING:langchain.text_splitter:Created a chunk of size 266, which is longer than the specified 250\n",
            "WARNING:langchain.text_splitter:Created a chunk of size 601, which is longer than the specified 250\n",
            "WARNING:langchain.text_splitter:Created a chunk of size 341, which is longer than the specified 250\n",
            "WARNING:langchain.text_splitter:Created a chunk of size 279, which is longer than the specified 250\n",
            "WARNING:langchain.text_splitter:Created a chunk of size 403, which is longer than the specified 250\n",
            "WARNING:langchain.text_splitter:Created a chunk of size 251, which is longer than the specified 250\n",
            "WARNING:langchain.text_splitter:Created a chunk of size 384, which is longer than the specified 250\n",
            "WARNING:langchain.text_splitter:Created a chunk of size 341, which is longer than the specified 250\n",
            "WARNING:langchain.text_splitter:Created a chunk of size 267, which is longer than the specified 250\n",
            "WARNING:langchain.text_splitter:Created a chunk of size 257, which is longer than the specified 250\n",
            "WARNING:langchain.text_splitter:Created a chunk of size 284, which is longer than the specified 250\n",
            "WARNING:langchain.text_splitter:Created a chunk of size 251, which is longer than the specified 250\n",
            "WARNING:langchain.text_splitter:Created a chunk of size 268, which is longer than the specified 250\n",
            "WARNING:langchain.text_splitter:Created a chunk of size 261, which is longer than the specified 250\n",
            "WARNING:langchain.text_splitter:Created a chunk of size 305, which is longer than the specified 250\n",
            "WARNING:langchain.text_splitter:Created a chunk of size 347, which is longer than the specified 250\n",
            "WARNING:langchain.text_splitter:Created a chunk of size 264, which is longer than the specified 250\n",
            "WARNING:langchain.text_splitter:Created a chunk of size 514, which is longer than the specified 250\n",
            "WARNING:langchain.text_splitter:Created a chunk of size 259, which is longer than the specified 250\n",
            "WARNING:langchain.text_splitter:Created a chunk of size 432, which is longer than the specified 250\n",
            "WARNING:langchain.text_splitter:Created a chunk of size 408, which is longer than the specified 250\n",
            "WARNING:langchain.text_splitter:Created a chunk of size 329, which is longer than the specified 250\n",
            "WARNING:langchain.text_splitter:Created a chunk of size 498, which is longer than the specified 250\n",
            "WARNING:langchain.text_splitter:Created a chunk of size 527, which is longer than the specified 250\n",
            "WARNING:langchain.text_splitter:Created a chunk of size 516, which is longer than the specified 250\n",
            "WARNING:langchain.text_splitter:Created a chunk of size 689, which is longer than the specified 250\n",
            "WARNING:langchain.text_splitter:Created a chunk of size 282, which is longer than the specified 250\n",
            "WARNING:langchain.text_splitter:Created a chunk of size 395, which is longer than the specified 250\n",
            "WARNING:langchain.text_splitter:Created a chunk of size 312, which is longer than the specified 250\n",
            "WARNING:langchain.text_splitter:Created a chunk of size 386, which is longer than the specified 250\n",
            "WARNING:langchain.text_splitter:Created a chunk of size 332, which is longer than the specified 250\n",
            "WARNING:langchain.text_splitter:Created a chunk of size 488, which is longer than the specified 250\n",
            "WARNING:langchain.text_splitter:Created a chunk of size 280, which is longer than the specified 250\n",
            "WARNING:langchain.text_splitter:Created a chunk of size 575, which is longer than the specified 250\n",
            "WARNING:langchain.text_splitter:Created a chunk of size 277, which is longer than the specified 250\n",
            "WARNING:langchain.text_splitter:Created a chunk of size 464, which is longer than the specified 250\n",
            "WARNING:langchain.text_splitter:Created a chunk of size 273, which is longer than the specified 250\n",
            "WARNING:langchain.text_splitter:Created a chunk of size 397, which is longer than the specified 250\n",
            "WARNING:langchain.text_splitter:Created a chunk of size 596, which is longer than the specified 250\n",
            "WARNING:langchain.text_splitter:Created a chunk of size 335, which is longer than the specified 250\n",
            "WARNING:langchain.text_splitter:Created a chunk of size 445, which is longer than the specified 250\n",
            "WARNING:langchain.text_splitter:Created a chunk of size 262, which is longer than the specified 250\n",
            "WARNING:langchain.text_splitter:Created a chunk of size 404, which is longer than the specified 250\n",
            "WARNING:langchain.text_splitter:Created a chunk of size 294, which is longer than the specified 250\n",
            "WARNING:langchain.text_splitter:Created a chunk of size 262, which is longer than the specified 250\n",
            "WARNING:langchain.text_splitter:Created a chunk of size 359, which is longer than the specified 250\n",
            "WARNING:langchain.text_splitter:Created a chunk of size 257, which is longer than the specified 250\n",
            "WARNING:langchain.text_splitter:Created a chunk of size 438, which is longer than the specified 250\n",
            "WARNING:langchain.text_splitter:Created a chunk of size 313, which is longer than the specified 250\n",
            "WARNING:langchain.text_splitter:Created a chunk of size 682, which is longer than the specified 250\n",
            "WARNING:langchain.text_splitter:Created a chunk of size 265, which is longer than the specified 250\n",
            "WARNING:langchain.text_splitter:Created a chunk of size 268, which is longer than the specified 250\n",
            "WARNING:langchain.text_splitter:Created a chunk of size 576, which is longer than the specified 250\n",
            "WARNING:langchain.text_splitter:Created a chunk of size 327, which is longer than the specified 250\n",
            "WARNING:langchain.text_splitter:Created a chunk of size 252, which is longer than the specified 250\n",
            "WARNING:langchain.text_splitter:Created a chunk of size 298, which is longer than the specified 250\n"
          ]
        }
      ]
    },
    {
      "cell_type": "code",
      "source": [
        "embed = OpenAIEmbeddings()\n",
        "\n",
        "db = Chroma.from_texts(nsplit, embed)"
      ],
      "metadata": {
        "id": "qfjyaDvLd8PG"
      },
      "execution_count": 42,
      "outputs": []
    },
    {
      "cell_type": "code",
      "source": [
        "query = \"what is yumi\"\n",
        "outputtext = db.similarity_search(query)\n",
        "print(outputtext[0].page_content)"
      ],
      "metadata": {
        "colab": {
          "base_uri": "https://localhost:8080/"
        },
        "id": "HNvpMzUhd_5t",
        "outputId": "9dd2ae41-3311-4c67-a512-b41445d97392"
      },
      "execution_count": 43,
      "outputs": [
        {
          "output_type": "stream",
          "name": "stdout",
          "text": [
            "All rights reserved.1.1.1.1.1 Robot type description ContinuedWhen operated under the specified test conditions, the IRB 14000 YuMi including gripper and suction cup is suitable for use in cleanrooms fulfilling the specifications of the following Air Cleanliness Classes according to ISO 14644-1.The robot has IP30 protection.The robot is equipped with the controller (located inside the boby of the robot) and robot control software, RobotWare.\n"
          ]
        }
      ]
    },
    {
      "cell_type": "code",
      "source": [
        "memory=ConversationBufferMemory(memory_key=\"chat_history\",return_messages=True)\n",
        "\n",
        "qa = ConversationalRetrievalChain.from_llm(OpenAI(temperature=0), db.as_retriever(), memory=memory)"
      ],
      "metadata": {
        "id": "1xZbmezbeCO4"
      },
      "execution_count": 44,
      "outputs": []
    },
    {
      "cell_type": "code",
      "source": [
        "query = \"What is this manual about?\"\n",
        "result = qa({\"question\": query})\n",
        "result[\"answer\"]"
      ],
      "metadata": {
        "colab": {
          "base_uri": "https://localhost:8080/",
          "height": 70
        },
        "id": "E0GEtg-QeCu4",
        "outputId": "55aad3ec-f46a-4355-e750-a7729c459671"
      },
      "execution_count": 46,
      "outputs": [
        {
          "output_type": "execute_result",
          "data": {
            "text/plain": [
              "' The safety instructions for the IRB 14000 manipulators and controllers are described in the Safety manual for robot - Manipulator and IRC5 or OmniCore controller. This manual contains all the necessary information for maintaining the safety integrity of the installation, including instructions for replacing units in the controller and reporting the data to ABB.'"
            ],
            "application/vnd.google.colaboratory.intrinsic+json": {
              "type": "string"
            }
          },
          "metadata": {},
          "execution_count": 46
        }
      ]
    },
    {
      "cell_type": "code",
      "source": [
        "query = \"tell me how do I move my robot linearly and circularly\"\n",
        "result = qa({\"question\": query})\n",
        "result[\"answer\"]"
      ],
      "metadata": {
        "colab": {
          "base_uri": "https://localhost:8080/",
          "height": 52
        },
        "id": "Y1aDzKtqeNlY",
        "outputId": "237a8359-f097-4552-cb65-4bc3436aee4a"
      },
      "execution_count": 47,
      "outputs": [
        {
          "output_type": "execute_result",
          "data": {
            "text/plain": [
              "\" You can move your robot linearly and circularly by adjusting the robot's positioning, velocity, arm configuration, direction of approach, and load direction.\""
            ],
            "application/vnd.google.colaboratory.intrinsic+json": {
              "type": "string"
            }
          },
          "metadata": {},
          "execution_count": 47
        }
      ]
    },
    {
      "cell_type": "code",
      "source": [
        "!pip install pypdf2\n"
      ],
      "metadata": {
        "colab": {
          "base_uri": "https://localhost:8080/"
        },
        "id": "hpJzI620rse4",
        "outputId": "2f91387b-cceb-40b6-9e85-fe4f7eab00e3"
      },
      "execution_count": 48,
      "outputs": [
        {
          "output_type": "stream",
          "name": "stdout",
          "text": [
            "Collecting pypdf2\n",
            "  Downloading pypdf2-3.0.1-py3-none-any.whl (232 kB)\n",
            "\u001b[2K     \u001b[90m━━━━━━━━━━━━━━━━━━━━━━━━━━━━━━━━━━━━━━━\u001b[0m \u001b[32m232.6/232.6 kB\u001b[0m \u001b[31m2.7 MB/s\u001b[0m eta \u001b[36m0:00:00\u001b[0m\n",
            "\u001b[?25hInstalling collected packages: pypdf2\n",
            "Successfully installed pypdf2-3.0.1\n"
          ]
        }
      ]
    },
    {
      "cell_type": "code",
      "source": [
        "import PyPDF2\n",
        "\n",
        "def pdf_to_text(pdf_path):\n",
        "    with open(pdf_path, 'rb') as file:\n",
        "        reader = PyPDF2.PdfReader(file)\n",
        "        text = ''.join([reader.pages[i].extract_text () for i in range(len(reader.pages))])\n",
        "    return text\n"
      ],
      "metadata": {
        "id": "ogLFgp2eryO_"
      },
      "execution_count": 62,
      "outputs": []
    },
    {
      "cell_type": "code",
      "source": [
        "import re\n",
        "\n",
        "def clean_text(text):\n",
        "    # Remove any set of characters \"XXX\"\n",
        "    text = text.replace(\"XXX\", \"\")\n",
        "\n",
        "    # Remove trailing whitespaces and filter lines\n",
        "    cleaned_lines = []\n",
        "    for line in text.splitlines():\n",
        "        line = line.strip()  # Remove trailing whitespaces\n",
        "\n",
        "        # Skip lines with non-standard characters\n",
        "        if re.search(r\"[^a-zA-Z0-9.,!?;:'\\\" \\-()]\", line):\n",
        "            continue\n",
        "\n",
        "        # Skip lines that are blank or only have periods\n",
        "        if not line or line == \".\":\n",
        "            continue\n",
        "\n",
        "        # If a line ends with a hyphen, remove that hyphen\n",
        "        if line.endswith('-'):\n",
        "            line = line[:-1]\n",
        "\n",
        "        cleaned_lines.append(line)\n",
        "\n",
        "    return '\\n'.join(cleaned_lines)\n"
      ],
      "metadata": {
        "id": "yrKxIKaSr5jt"
      },
      "execution_count": 65,
      "outputs": []
    },
    {
      "cell_type": "code",
      "source": [
        "pdf_path = \"/content/3HAC052982 PS IRB 14000-en.pdf\"\n",
        "text = pdf_to_text(pdf_path)\n",
        "cleaned_text = clean_text(text)"
      ],
      "metadata": {
        "id": "vlmusSHEsk4-"
      },
      "execution_count": 66,
      "outputs": []
    },
    {
      "cell_type": "code",
      "source": [
        "with open('/content/cleaned_text.txt', 'w') as file:\n",
        "    file.write(cleaned_text)\n"
      ],
      "metadata": {
        "id": "YfpSRiJTtxjq"
      },
      "execution_count": 67,
      "outputs": []
    },
    {
      "cell_type": "code",
      "source": [
        "    # Offer the PLY file for download.\n",
        "    from google.colab import files\n",
        "    files.download('cleaned_text.txt')"
      ],
      "metadata": {
        "colab": {
          "base_uri": "https://localhost:8080/",
          "height": 17
        },
        "id": "03v4dfJ_ycki",
        "outputId": "6704178d-3e11-4bb8-fc10-559d37968e8b"
      },
      "execution_count": 68,
      "outputs": [
        {
          "output_type": "display_data",
          "data": {
            "text/plain": [
              "<IPython.core.display.Javascript object>"
            ],
            "application/javascript": [
              "\n",
              "    async function download(id, filename, size) {\n",
              "      if (!google.colab.kernel.accessAllowed) {\n",
              "        return;\n",
              "      }\n",
              "      const div = document.createElement('div');\n",
              "      const label = document.createElement('label');\n",
              "      label.textContent = `Downloading \"${filename}\": `;\n",
              "      div.appendChild(label);\n",
              "      const progress = document.createElement('progress');\n",
              "      progress.max = size;\n",
              "      div.appendChild(progress);\n",
              "      document.body.appendChild(div);\n",
              "\n",
              "      const buffers = [];\n",
              "      let downloaded = 0;\n",
              "\n",
              "      const channel = await google.colab.kernel.comms.open(id);\n",
              "      // Send a message to notify the kernel that we're ready.\n",
              "      channel.send({})\n",
              "\n",
              "      for await (const message of channel.messages) {\n",
              "        // Send a message to notify the kernel that we're ready.\n",
              "        channel.send({})\n",
              "        if (message.buffers) {\n",
              "          for (const buffer of message.buffers) {\n",
              "            buffers.push(buffer);\n",
              "            downloaded += buffer.byteLength;\n",
              "            progress.value = downloaded;\n",
              "          }\n",
              "        }\n",
              "      }\n",
              "      const blob = new Blob(buffers, {type: 'application/binary'});\n",
              "      const a = document.createElement('a');\n",
              "      a.href = window.URL.createObjectURL(blob);\n",
              "      a.download = filename;\n",
              "      div.appendChild(a);\n",
              "      a.click();\n",
              "      div.remove();\n",
              "    }\n",
              "  "
            ]
          },
          "metadata": {}
        },
        {
          "output_type": "display_data",
          "data": {
            "text/plain": [
              "<IPython.core.display.Javascript object>"
            ],
            "application/javascript": [
              "download(\"download_6b169957-968f-4f64-980b-1463dbc3bd85\", \"cleaned_text.txt\", 81364)"
            ]
          },
          "metadata": {}
        }
      ]
    },
    {
      "cell_type": "code",
      "source": [
        "link=\"/content/cleaned_text.txt\"\n",
        "elements = partition(filename=link, content_type=\"application/text\")\n",
        "\n",
        "input=\"\"\n",
        "for element in elements:\n",
        "    if isinstance(element, NarrativeText):\n",
        "        input=input+str(element);\n",
        "\n",
        "nltksplit = NLTKTextSplitter(chunk_size=250)\n",
        "nsplit = nltksplit.split_text(input)"
      ],
      "metadata": {
        "colab": {
          "base_uri": "https://localhost:8080/"
        },
        "id": "1i7vEfIhy258",
        "outputId": "8dee950c-3ca1-4391-f05c-74aab95e2d0f"
      },
      "execution_count": 69,
      "outputs": [
        {
          "output_type": "stream",
          "name": "stderr",
          "text": [
            "WARNING:langchain.text_splitter:Created a chunk of size 762, which is longer than the specified 250\n",
            "WARNING:langchain.text_splitter:Created a chunk of size 272, which is longer than the specified 250\n",
            "WARNING:langchain.text_splitter:Created a chunk of size 900, which is longer than the specified 250\n",
            "WARNING:langchain.text_splitter:Created a chunk of size 1062, which is longer than the specified 250\n",
            "WARNING:langchain.text_splitter:Created a chunk of size 457, which is longer than the specified 250\n",
            "WARNING:langchain.text_splitter:Created a chunk of size 271, which is longer than the specified 250\n",
            "WARNING:langchain.text_splitter:Created a chunk of size 638, which is longer than the specified 250\n",
            "WARNING:langchain.text_splitter:Created a chunk of size 427, which is longer than the specified 250\n",
            "WARNING:langchain.text_splitter:Created a chunk of size 295, which is longer than the specified 250\n",
            "WARNING:langchain.text_splitter:Created a chunk of size 482, which is longer than the specified 250\n",
            "WARNING:langchain.text_splitter:Created a chunk of size 316, which is longer than the specified 250\n",
            "WARNING:langchain.text_splitter:Created a chunk of size 419, which is longer than the specified 250\n",
            "WARNING:langchain.text_splitter:Created a chunk of size 308, which is longer than the specified 250\n",
            "WARNING:langchain.text_splitter:Created a chunk of size 326, which is longer than the specified 250\n",
            "WARNING:langchain.text_splitter:Created a chunk of size 384, which is longer than the specified 250\n",
            "WARNING:langchain.text_splitter:Created a chunk of size 269, which is longer than the specified 250\n",
            "WARNING:langchain.text_splitter:Created a chunk of size 325, which is longer than the specified 250\n",
            "WARNING:langchain.text_splitter:Created a chunk of size 282, which is longer than the specified 250\n",
            "WARNING:langchain.text_splitter:Created a chunk of size 532, which is longer than the specified 250\n",
            "WARNING:langchain.text_splitter:Created a chunk of size 614, which is longer than the specified 250\n",
            "WARNING:langchain.text_splitter:Created a chunk of size 412, which is longer than the specified 250\n",
            "WARNING:langchain.text_splitter:Created a chunk of size 364, which is longer than the specified 250\n",
            "WARNING:langchain.text_splitter:Created a chunk of size 364, which is longer than the specified 250\n",
            "WARNING:langchain.text_splitter:Created a chunk of size 483, which is longer than the specified 250\n",
            "WARNING:langchain.text_splitter:Created a chunk of size 262, which is longer than the specified 250\n",
            "WARNING:langchain.text_splitter:Created a chunk of size 256, which is longer than the specified 250\n",
            "WARNING:langchain.text_splitter:Created a chunk of size 849, which is longer than the specified 250\n",
            "WARNING:langchain.text_splitter:Created a chunk of size 420, which is longer than the specified 250\n",
            "WARNING:langchain.text_splitter:Created a chunk of size 682, which is longer than the specified 250\n",
            "WARNING:langchain.text_splitter:Created a chunk of size 361, which is longer than the specified 250\n",
            "WARNING:langchain.text_splitter:Created a chunk of size 761, which is longer than the specified 250\n",
            "WARNING:langchain.text_splitter:Created a chunk of size 340, which is longer than the specified 250\n",
            "WARNING:langchain.text_splitter:Created a chunk of size 798, which is longer than the specified 250\n",
            "WARNING:langchain.text_splitter:Created a chunk of size 437, which is longer than the specified 250\n",
            "WARNING:langchain.text_splitter:Created a chunk of size 299, which is longer than the specified 250\n",
            "WARNING:langchain.text_splitter:Created a chunk of size 840, which is longer than the specified 250\n",
            "WARNING:langchain.text_splitter:Created a chunk of size 624, which is longer than the specified 250\n",
            "WARNING:langchain.text_splitter:Created a chunk of size 334, which is longer than the specified 250\n",
            "WARNING:langchain.text_splitter:Created a chunk of size 834, which is longer than the specified 250\n",
            "WARNING:langchain.text_splitter:Created a chunk of size 259, which is longer than the specified 250\n",
            "WARNING:langchain.text_splitter:Created a chunk of size 383, which is longer than the specified 250\n",
            "WARNING:langchain.text_splitter:Created a chunk of size 339, which is longer than the specified 250\n",
            "WARNING:langchain.text_splitter:Created a chunk of size 261, which is longer than the specified 250\n",
            "WARNING:langchain.text_splitter:Created a chunk of size 1026, which is longer than the specified 250\n",
            "WARNING:langchain.text_splitter:Created a chunk of size 262, which is longer than the specified 250\n",
            "WARNING:langchain.text_splitter:Created a chunk of size 774, which is longer than the specified 250\n",
            "WARNING:langchain.text_splitter:Created a chunk of size 442, which is longer than the specified 250\n",
            "WARNING:langchain.text_splitter:Created a chunk of size 487, which is longer than the specified 250\n",
            "WARNING:langchain.text_splitter:Created a chunk of size 258, which is longer than the specified 250\n",
            "WARNING:langchain.text_splitter:Created a chunk of size 412, which is longer than the specified 250\n",
            "WARNING:langchain.text_splitter:Created a chunk of size 624, which is longer than the specified 250\n",
            "WARNING:langchain.text_splitter:Created a chunk of size 577, which is longer than the specified 250\n",
            "WARNING:langchain.text_splitter:Created a chunk of size 684, which is longer than the specified 250\n",
            "WARNING:langchain.text_splitter:Created a chunk of size 331, which is longer than the specified 250\n",
            "WARNING:langchain.text_splitter:Created a chunk of size 603, which is longer than the specified 250\n",
            "WARNING:langchain.text_splitter:Created a chunk of size 269, which is longer than the specified 250\n"
          ]
        }
      ]
    },
    {
      "cell_type": "code",
      "source": [
        "embed = OpenAIEmbeddings()\n",
        "\n",
        "db = Chroma.from_texts(nsplit, embed)"
      ],
      "metadata": {
        "id": "CIVCy-Y1zICO"
      },
      "execution_count": 70,
      "outputs": []
    },
    {
      "cell_type": "code",
      "source": [
        "query = \"what is a YuMI\"\n",
        "outputtext = db.similarity_search(query)\n",
        "print(outputtext[0].page_content)"
      ],
      "metadata": {
        "colab": {
          "base_uri": "https://localhost:8080/"
        },
        "id": "15cOTXafzMIC",
        "outputId": "8ef9cd95-152c-428c-ee6e-404201a7c9ae"
      },
      "execution_count": 91,
      "outputs": [
        {
          "output_type": "stream",
          "name": "stdout",
          "text": [
            "All rights reserved.1.1.1.1.1 Robot type description ContinuedWhen operated under the specified test conditions, the IRB 14000 YuMi including gripper and suction cup is suitable for use in cleanrooms fulfilling the specifications of the following Air Cleanliness Classes according to ISO 14644-1.The robot has IP30 protection.The robot is equipped with the controller (located inside the boby of the robot) and robot control software, RobotWare.\n"
          ]
        }
      ]
    },
    {
      "cell_type": "code",
      "source": [
        "response = openai.ChatCompletion.create(\n",
        "  model=\"gpt-3.5-turbo\",\n",
        "  messages=[\n",
        "        {\"role\": \"system\", \"content\": \"You are a helpful assistant.\"},\n",
        "        {\"role\": \"user\", \"content\": f\" Show the initial query of the user and craft a refined answer based on the query: '{query}' and relevant chunk of text from the source pdf: '{outputtext[0].page_content}'?\"}\n",
        "    ]\n",
        ")\n",
        "\n",
        "refined_output = response.choices[0].message['content'].strip()\n",
        "print(refined_output)\n"
      ],
      "metadata": {
        "colab": {
          "base_uri": "https://localhost:8080/"
        },
        "id": "ojMkVh0l51Uf",
        "outputId": "1641b074-61ab-4360-d69d-dad44c0fe9c7"
      },
      "execution_count": 92,
      "outputs": [
        {
          "output_type": "stream",
          "name": "stdout",
          "text": [
            "Query: \"What is a YuMi?\"\n",
            "\n",
            "YuMi is a type of robot, specifically the IRB 14000 YuMi, that is suitable for use in cleanrooms. It has IP30 protection and is equipped with a controller and robot control software called RobotWare.\n"
          ]
        }
      ]
    }
  ],
  "metadata": {
    "accelerator": "GPU",
    "colab": {
      "provenance": [],
      "authorship_tag": "ABX9TyOc6DspP7e+CacNUgCEEwDL",
      "include_colab_link": true
    },
    "kernelspec": {
      "display_name": "Python 3",
      "name": "python3"
    },
    "language_info": {
      "name": "python"
    }
  },
  "nbformat": 4,
  "nbformat_minor": 0
}